{
 "cells": [
  {
   "cell_type": "markdown",
   "metadata": {},
   "source": [
    "# Stellargraph Ensembles for node attribute inference\n",
    "\n",
    "This notebook demonstrates the use of `stellargraph`'s `Ensemble` class for node attribute inference using the Cora and Pubmed-Diabetes citation datasets.\n",
    "\n",
    "The `Ensemble` class brings ensemble learning to `stellargraph`'s graph neural network models, e.g., `GraphSAGE` and `GCN`, quantifying prediction variance and potentially improving prediction accuracy. \n",
    "\n",
    "**References**\n",
    "\n",
    "1. Inductive Representation Learning on Large Graphs. W.L. Hamilton, R. Ying, and J. Leskovec arXiv:1706.02216 \n",
    "[cs.SI], 2017.\n",
    "\n",
    "\n",
    "2. Semi-Supervised Classification with Graph Convolutional Networks. T. Kipf, M. Welling. ICLR 2017. arXiv:1609.02907 \n",
    "\n",
    "\n",
    "3. Graph Attention Networks. P. Velickovic et al. ICLR 2018"
   ]
  },
  {
   "cell_type": "code",
   "execution_count": 1,
   "metadata": {
    "collapsed": true,
    "scrolled": true
   },
   "outputs": [],
   "source": [
    "import networkx as nx\n",
    "import pandas as pd\n",
    "import numpy as np\n",
    "import itertools\n",
    "import os\n",
    "\n",
    "from sklearn.decomposition import PCA\n",
    "from sklearn.manifold import TSNE\n",
    "\n",
    "import stellargraph as sg\n",
    "from stellargraph.mapper import GraphSAGENodeGenerator, FullBatchNodeGenerator\n",
    "from stellargraph.layer import GraphSAGE, GCN, GAT\n",
    "from stellargraph import globalvar\n",
    "\n",
    "from stellargraph import Ensemble, BaggingEnsemble\n",
    "\n",
    "from tensorflow.keras import layers, optimizers, losses, metrics, Model, models\n",
    "from sklearn import preprocessing, feature_extraction, model_selection\n",
    "\n",
    "import matplotlib.pyplot as plt\n",
    "import seaborn as sns\n",
    "\n",
    "%matplotlib inline"
   ]
  },
  {
   "cell_type": "code",
   "execution_count": 2,
   "metadata": {
    "collapsed": true
   },
   "outputs": [],
   "source": [
    "def plot_history(history):\n",
    "    def remove_prefix(text, prefix):\n",
    "        return text[text.startswith(prefix) and len(prefix):]\n",
    "\n",
    "    figsize=(6, 4)\n",
    "    c_train = 'b'\n",
    "    c_test = 'g'\n",
    "    \n",
    "    metrics = sorted(set([remove_prefix(m, \"val_\") for m in list(history[0].history.keys())]))\n",
    "    for m in metrics:\n",
    "        # summarize history for metric m\n",
    "        plt.figure(figsize=figsize)\n",
    "        for h in history:\n",
    "            plt.plot(h.history[m], c=c_train)\n",
    "            plt.plot(h.history['val_' + m], c=c_test)\n",
    "            \n",
    "        plt.title(m)\n",
    "        plt.ylabel(m)\n",
    "        plt.xlabel('epoch')\n",
    "        plt.legend(['train', 'validation'], loc='best')"
   ]
  },
  {
   "cell_type": "markdown",
   "metadata": {},
   "source": [
    "### Loading the network data"
   ]
  },
  {
   "cell_type": "markdown",
   "metadata": {},
   "source": [
    "**Downloading the CORA dataset:**\n",
    "    \n",
    "The dataset used in this demo can be downloaded from https://linqs-data.soe.ucsc.edu/public/lbc/cora.tgz\n",
    "\n",
    "The following is the description of the dataset:\n",
    "> The Cora dataset consists of 2708 scientific publications classified into one of seven classes.\n",
    "> The citation network consists of 5429 links. Each publication in the dataset is described by a\n",
    "> 0/1-valued word vector indicating the absence/presence of the corresponding word from the dictionary.\n",
    "> The dictionary consists of 1433 unique words. The README file in the dataset provides more details.\n",
    "\n",
    "Download and unzip the cora.tgz file to a location on your computer and set the `data_dir` variable to\n",
    "point to the location of the dataset (the directory containing \"cora.cites\" and \"cora.content\").\n",
    "\n",
    "**Downloading the PubMed-Diabetes dataset:**\n",
    "\n",
    "The dataset used in this demo can be downloaded from https://linqs-data.soe.ucsc.edu/public/Pubmed-Diabetes.tgz\n",
    "\n",
    "The following is the description of the dataset:\n",
    "\n",
    ">The Pubmed Diabetes dataset consists of 19717 scientific publications from PubMed database pertaining to diabetes classified into one of three classes. The citation network consists of 44338 links. Each publication in the dataset is described by a TF/IDF weighted word vector from a dictionary which consists of 500 unique words.\n",
    "\n",
    "Download and unzip the Pubmed-Diabetes.tgz file to a location on your computer.\n",
    "\n",
    "Set the data_dir variable to point to the location of the processed dataset."
   ]
  },
  {
   "cell_type": "markdown",
   "metadata": {},
   "source": [
    "First, we select the dataset to use, either Cora or Pubmed-Diabetes"
   ]
  },
  {
   "cell_type": "code",
   "execution_count": 3,
   "metadata": {
    "collapsed": true
   },
   "outputs": [],
   "source": [
    "use_cora = True  # Select the dataset; if False, then Pubmed-Diabetes dataset is used.\n",
    "if use_cora:\n",
    "    data_dir = os.path.expanduser(\"~/data/cora\")\n",
    "else:\n",
    "    data_dir = os.path.expanduser(\"~/data/pubmed/Pubmed-Diabetes/data\")"
   ]
  },
  {
   "cell_type": "code",
   "execution_count": 4,
   "metadata": {
    "collapsed": true
   },
   "outputs": [],
   "source": [
    "def load_cora(data_dir, largest_cc=False):\n",
    "    g_nx = nx.read_edgelist(path=os.path.expanduser(os.path.join(data_dir, \"cora.cites\")))\n",
    "    \n",
    "    for edge in g_nx.edges(data=True):\n",
    "        edge[2]['label'] = 'cites'\n",
    "\n",
    "    # load the node attribute data\n",
    "    cora_data_location = os.path.expanduser(os.path.join(data_dir, \"cora.content\"))\n",
    "    node_attr = pd.read_csv(cora_data_location, sep='\\t', header=None)\n",
    "    values = { str(row.tolist()[0]): row.tolist()[-1] for _, row in node_attr.iterrows()}\n",
    "    nx.set_node_attributes(g_nx, values, 'subject')\n",
    "\n",
    "    if largest_cc:\n",
    "        # Select the largest connected component. For clarity we ignore isolated\n",
    "        # nodes and subgraphs; having these in the data does not prevent the\n",
    "        # algorithm from running and producing valid results.\n",
    "        g_nx_ccs = (g_nx.subgraph(c).copy() for c in nx.connected_components(g_nx))\n",
    "        g_nx = max(g_nx_ccs, key=len)\n",
    "        print(\"Largest subgraph statistics: {} nodes, {} edges\".format(\n",
    "            g_nx.number_of_nodes(), g_nx.number_of_edges()))\n",
    "    \n",
    "    feature_names = [\"w_{}\".format(ii) for ii in range(1433)]\n",
    "    column_names =  feature_names + [\"subject\"]\n",
    "    node_data = pd.read_csv(os.path.join(data_dir, \"cora.content\"), \n",
    "                              sep=\"\\t\", header=None, \n",
    "                              names=column_names)\n",
    "    \n",
    "    node_data.index = node_data.index.map(str)\n",
    "    node_data = node_data[node_data.index.isin(list(g_nx.nodes()))]\n",
    "    \n",
    "    for nid in node_data.index:\n",
    "        g_nx.nodes[nid][globalvar.TYPE_ATTR_NAME] = \"paper\"  # specify node type\n",
    "\n",
    "    return g_nx, node_data, feature_names"
   ]
  },
  {
   "cell_type": "code",
   "execution_count": 5,
   "metadata": {
    "collapsed": true
   },
   "outputs": [],
   "source": [
    "def load_pubmed(data_dir):\n",
    "    edgelist = pd.read_csv(os.path.join(data_dir, 'Pubmed-Diabetes.DIRECTED.cites.tab'), \n",
    "                             sep=\"\\t\", skiprows=2, \n",
    "                             header=None )\n",
    "    edgelist.drop(columns=[0,2], inplace=True)\n",
    "    edgelist.columns = ['source', 'target']\n",
    "    # delete unneccessary prefix \n",
    "    edgelist['source'] = edgelist['source'].map(lambda x: x.lstrip('paper:')) \n",
    "    edgelist['target'] = edgelist['target'].map(lambda x: x.lstrip('paper:'))\n",
    "    edgelist[\"label\"] = \"cites\"  # set the edge type\n",
    "    \n",
    "    # Load the graph from the edgelist\n",
    "    g_nx = nx.from_pandas_edgelist(edgelist, edge_attr=\"label\")\n",
    "\n",
    "    # Load the features and subject for each node in the graph\n",
    "    nodes_as_dict = []\n",
    "    with open(os.path.join(os.path.expanduser(data_dir), \n",
    "                           \"Pubmed-Diabetes.NODE.paper.tab\")) as fp:\n",
    "        for line in itertools.islice(fp, 2, None):\n",
    "            line_res = line.split(\"\\t\")\n",
    "            pid = line_res[0]\n",
    "            feat_name = ['pid'] + [l.split(\"=\")[0] for l in line_res[1:]][:-1] # delete summary\n",
    "            feat_value = [l.split(\"=\")[1] for l in line_res[1:]][:-1] # delete summary\n",
    "            feat_value = [pid] + [ float(x) for x in feat_value ] # change to numeric from str\n",
    "            row = dict(zip(feat_name, feat_value))\n",
    "            nodes_as_dict.append(row)\n",
    "\n",
    "    # Create a Pandas dataframe holding the node data        \n",
    "    node_data = pd.DataFrame(nodes_as_dict)\n",
    "    node_data.fillna(0, inplace=True)\n",
    "    node_data['label'] = node_data['label'].astype(int)\n",
    "    node_data['label'] = node_data['label'].astype(str)\n",
    "    \n",
    "    node_data.index = node_data['pid']\n",
    "    node_data.drop(columns=['pid'], inplace=True)\n",
    "    node_data.head()\n",
    "    \n",
    "    for nid in node_data.index:\n",
    "        g_nx.nodes[nid][globalvar.TYPE_ATTR_NAME] = \"paper\"  # specify node type\n",
    "    \n",
    "    feature_names = list(node_data.columns)\n",
    "    feature_names.remove(\"label\")\n",
    "\n",
    "    return g_nx, node_data, feature_names"
   ]
  },
  {
   "cell_type": "markdown",
   "metadata": {},
   "source": [
    "Load the graph data."
   ]
  },
  {
   "cell_type": "code",
   "execution_count": 6,
   "metadata": {
    "collapsed": true
   },
   "outputs": [],
   "source": [
    "if use_cora:\n",
    "    Gnx, node_data, feature_names = load_cora(data_dir)\n",
    "else:\n",
    "    Gnx, node_data, feature_names = load_pubmed(data_dir)"
   ]
  },
  {
   "cell_type": "markdown",
   "metadata": {},
   "source": [
    "We aim to train a graph-ML model that will predict the \"subject\" or \"label\" attribute on the nodes depending on the selected dataset. These subjects are one of 7 or 3 categories for Cora and PubMed-Diabetes respectively:"
   ]
  },
  {
   "cell_type": "code",
   "execution_count": 7,
   "metadata": {},
   "outputs": [
    {
     "name": "stdout",
     "output_type": "stream",
     "text": [
      "{'Reinforcement_Learning', 'Case_Based', 'Theory', 'Probabilistic_Methods', 'Neural_Networks', 'Rule_Learning', 'Genetic_Algorithms'}\n"
     ]
    }
   ],
   "source": [
    "# Print the class names for the selected dataset\n",
    "if use_cora:\n",
    "    print(set(node_data[\"subject\"]))\n",
    "else:\n",
    "    print(set(node_data[\"label\"]))"
   ]
  },
  {
   "cell_type": "markdown",
   "metadata": {},
   "source": [
    "### Splitting the data"
   ]
  },
  {
   "cell_type": "markdown",
   "metadata": {},
   "source": [
    "For machine learning we want to take a subset of the nodes for training, and use the rest for validation and testing. We'll use scikit-learn again to do this"
   ]
  },
  {
   "cell_type": "code",
   "execution_count": 8,
   "metadata": {
    "collapsed": true
   },
   "outputs": [],
   "source": [
    "node_label = \"label\"\n",
    "if use_cora:\n",
    "    node_label = \"subject\"\n",
    "\n",
    "train_data, test_data = model_selection.train_test_split(node_data, \n",
    "                                                         train_size=0.2, #140\n",
    "                                                         test_size=None, \n",
    "                                                         stratify=node_data[node_label], \n",
    "                                                         random_state=42)\n",
    "val_data, test_data = model_selection.train_test_split(test_data, \n",
    "                                                       train_size=0.2, #500, \n",
    "                                                       test_size=None, \n",
    "                                                       stratify=test_data[node_label],\n",
    "                                                       random_state=100)"
   ]
  },
  {
   "cell_type": "markdown",
   "metadata": {},
   "source": [
    "### Converting to numeric arrays"
   ]
  },
  {
   "cell_type": "markdown",
   "metadata": {},
   "source": [
    "For our categorical target, we will use one-hot vectors that will be fed into a soft-max Keras layer during training."
   ]
  },
  {
   "cell_type": "code",
   "execution_count": 9,
   "metadata": {
    "collapsed": true
   },
   "outputs": [],
   "source": [
    "target_encoding = feature_extraction.DictVectorizer(sparse=False)\n",
    "\n",
    "train_targets = target_encoding.fit_transform(train_data[[node_label]].to_dict('records'))\n",
    "val_targets = target_encoding.transform(val_data[[node_label]].to_dict('records'))\n",
    "test_targets = target_encoding.transform(test_data[[node_label]].to_dict('records'))"
   ]
  },
  {
   "cell_type": "markdown",
   "metadata": {},
   "source": [
    "We now do the same for the node attributes we want to use to predict the subject. These are the feature vectors that the Keras model will use as input."
   ]
  },
  {
   "cell_type": "code",
   "execution_count": 10,
   "metadata": {
    "collapsed": true
   },
   "outputs": [],
   "source": [
    "node_features = node_data[feature_names]"
   ]
  },
  {
   "cell_type": "markdown",
   "metadata": {},
   "source": [
    "### Specify global parameters\n",
    "\n",
    "Here we specify some parameters that control the type of model we are going to use. For example, we specify the base model type, e.g., GCN, GraphSAGE, etc, and the number of estimators in the ensemble as well as model-specific parameters."
   ]
  },
  {
   "cell_type": "code",
   "execution_count": 11,
   "metadata": {
    "collapsed": true
   },
   "outputs": [],
   "source": [
    "model_type = 'graphsage'    # Can be either gcn, gat, or graphsage\n",
    "use_bagging=True     # If True, each model in the ensemble is trained on a bootstrapped sample\n",
    "                      # of the given training data; otherwise, the same training data are used\n",
    "                      # for training each model. \n",
    "\n",
    "if model_type == \"graphsage\":\n",
    "    # For GraphSAGE model\n",
    "    batch_size = 50; \n",
    "    num_samples = [10, 10]\n",
    "    n_estimators = 5     # The number of estimators in the ensemble\n",
    "    n_predictions = 10    # The number of predictions per estimator per query point\n",
    "    epochs = 50          # The number of training epochs\n",
    "elif model_type == \"gcn\":\n",
    "    # For GCN model\n",
    "    n_estimators = 5     # The number of estimators in the ensemble\n",
    "    n_predictions = 10    # The number of predictions per estimator per query point\n",
    "    epochs = 50          # The number of training epochs\n",
    "elif model_type == \"gat\":\n",
    "    # For GAT model\n",
    "    layer_sizes = [8, train_targets.shape[1]]\n",
    "    attention_heads = 8\n",
    "    n_estimators = 5     # The number of estimators in the ensemble\n",
    "    n_predictions = 10   # The number of predictions per estimator per query point\n",
    "    epochs = 200         # The number of training epochs"
   ]
  },
  {
   "cell_type": "markdown",
   "metadata": {},
   "source": [
    "## Creating the base graph machine learning model in Keras"
   ]
  },
  {
   "cell_type": "markdown",
   "metadata": {},
   "source": [
    "Now create a `StellarGraph` object from the `NetworkX` graph and the node features and targets. It is `StellarGraph` objects that we use in this library to perform machine learning tasks on."
   ]
  },
  {
   "cell_type": "code",
   "execution_count": 12,
   "metadata": {
    "collapsed": true
   },
   "outputs": [],
   "source": [
    "G = sg.StellarGraph(Gnx, node_features=node_features)"
   ]
  },
  {
   "cell_type": "code",
   "execution_count": 13,
   "metadata": {},
   "outputs": [
    {
     "name": "stdout",
     "output_type": "stream",
     "text": [
      "StellarGraph: Undirected multigraph\n",
      " Nodes: 2708, Edges: 5278\n",
      "\n",
      " Node types:\n",
      "  paper: [2708]\n",
      "    Edge types: paper-cites->paper\n",
      "\n",
      " Edge types:\n",
      "    paper-cites->paper: [5278]\n"
     ]
    }
   ],
   "source": [
    "print(G.info())"
   ]
  },
  {
   "cell_type": "markdown",
   "metadata": {},
   "source": [
    "To feed data from the graph to the Keras model we need a generator that feeds data from the graph into the model. The generators are specialized to the model and the learning task. "
   ]
  },
  {
   "cell_type": "markdown",
   "metadata": {},
   "source": [
    "For training we use only the training nodes returned from our splitter and the target values. The `shuffle=True` argument is given to the `flow` method to improve training for those generators that support shuffling."
   ]
  },
  {
   "cell_type": "code",
   "execution_count": 14,
   "metadata": {
    "collapsed": true
   },
   "outputs": [],
   "source": [
    "if model_type == 'graphsage':\n",
    "    generator = GraphSAGENodeGenerator(G, batch_size, num_samples)\n",
    "    train_gen = generator.flow(train_data.index, train_targets, shuffle=True)\n",
    "elif model_type == 'gcn': \n",
    "    generator = FullBatchNodeGenerator(G, method=\"gcn\")\n",
    "    train_gen = generator.flow(train_data.index, train_targets)  # does not support shuffle\n",
    "elif model_type == 'gat':\n",
    "    generator = FullBatchNodeGenerator(G, method=\"gat\")\n",
    "    train_gen = generator.flow(train_data.index, train_targets)  # does not support shuffle"
   ]
  },
  {
   "cell_type": "code",
   "execution_count": 15,
   "metadata": {},
   "outputs": [
    {
     "data": {
      "text/plain": [
       "541"
      ]
     },
     "execution_count": 15,
     "metadata": {},
     "output_type": "execute_result"
    }
   ],
   "source": [
    "len(train_data.index)"
   ]
  },
  {
   "cell_type": "markdown",
   "metadata": {},
   "source": [
    "Now we can specify our machine learning model, we need a few more parameters for this but the parameters are model-specific."
   ]
  },
  {
   "cell_type": "code",
   "execution_count": 16,
   "metadata": {
    "collapsed": true
   },
   "outputs": [],
   "source": [
    "if model_type == 'graphsage':\n",
    "    base_model = GraphSAGE(\n",
    "        layer_sizes=[16, 16],\n",
    "        generator=generator,\n",
    "        bias=True,\n",
    "        dropout=0.5,\n",
    "        normalize=\"l2\"\n",
    "    )\n",
    "    x_inp, x_out = base_model.node_model()\n",
    "    prediction = layers.Dense(units=train_targets.shape[1], activation=\"softmax\")(x_out)\n",
    "elif model_type == 'gcn':\n",
    "    base_model = GCN(\n",
    "        layer_sizes=[32, train_targets.shape[1]],\n",
    "        generator=generator,\n",
    "        bias=True,\n",
    "        dropout=0.5,\n",
    "        activations=[\"elu\", \"softmax\"]\n",
    "    )\n",
    "    x_inp, x_out = base_model.node_model()\n",
    "    prediction = x_out\n",
    "elif model_type == 'gat':\n",
    "    base_model = GAT(\n",
    "        layer_sizes=layer_sizes,\n",
    "        attn_heads=attention_heads,\n",
    "        generator=generator,\n",
    "        bias=True,\n",
    "        in_dropout=0.5,\n",
    "        attn_dropout=0.5,\n",
    "        activations=[\"elu\", \"softmax\"],\n",
    "    )\n",
    "    x_inp, prediction = base_model.node_model()"
   ]
  },
  {
   "cell_type": "markdown",
   "metadata": {},
   "source": [
    "Let's have a look at the shape of the output tensor."
   ]
  },
  {
   "cell_type": "code",
   "execution_count": 17,
   "metadata": {},
   "outputs": [
    {
     "data": {
      "text/plain": [
       "TensorShape([None, 7])"
      ]
     },
     "execution_count": 17,
     "metadata": {},
     "output_type": "execute_result"
    }
   ],
   "source": [
    "prediction.shape"
   ]
  },
  {
   "cell_type": "markdown",
   "metadata": {},
   "source": [
    "### Create a Keras model and then an Ensemble"
   ]
  },
  {
   "cell_type": "markdown",
   "metadata": {},
   "source": [
    "Now let's create the actual Keras model with the graph inputs `x_inp` provided by the `base_model` and outputs being the predictions from the softmax layer."
   ]
  },
  {
   "cell_type": "code",
   "execution_count": 18,
   "metadata": {
    "collapsed": true
   },
   "outputs": [],
   "source": [
    "model = Model(inputs=x_inp, outputs=prediction)"
   ]
  },
  {
   "cell_type": "markdown",
   "metadata": {},
   "source": [
    "Next, we create the ensemble model consisting of `n_estimators` models.\n",
    "\n",
    "We are also going to specify that we want to make `n_predictions` per query point per model. These predictions will differ because of the application of `dropout` and, in the case of ensembling GraphSAGE models, the sampling of node neighbourhoods."
   ]
  },
  {
   "cell_type": "code",
   "execution_count": 19,
   "metadata": {
    "collapsed": true
   },
   "outputs": [],
   "source": [
    "if use_bagging:\n",
    "    model = BaggingEnsemble(model, n_estimators=n_estimators, n_predictions=n_predictions)\n",
    "else:\n",
    "    model = Ensemble(model, n_estimators=n_estimators, n_predictions=n_predictions)\n",
    "\n",
    "model.compile(\n",
    "    optimizer=optimizers.Adam(lr=0.005),\n",
    "    loss=losses.categorical_crossentropy,\n",
    "    metrics=[\"acc\"],\n",
    ")"
   ]
  },
  {
   "cell_type": "code",
   "execution_count": 20,
   "metadata": {},
   "outputs": [
    {
     "data": {
      "text/plain": [
       "<stellargraph.ensemble.BaggingEnsemble at 0x142967a58>"
      ]
     },
     "execution_count": 20,
     "metadata": {},
     "output_type": "execute_result"
    }
   ],
   "source": [
    "# The model is of type stellargraph.utils.ensemble.Ensemble but has \n",
    "# a very similar interface to a Keras model\n",
    "model"
   ]
  },
  {
   "cell_type": "markdown",
   "metadata": {},
   "source": [
    "The ensemble has `n_estimators` models. Let's have a look at the first model's layers."
   ]
  },
  {
   "cell_type": "code",
   "execution_count": 21,
   "metadata": {},
   "outputs": [
    {
     "data": {
      "text/plain": [
       "[<tensorflow.python.keras.engine.input_layer.InputLayer at 0x1116f6668>,\n",
       " <tensorflow.python.keras.engine.input_layer.InputLayer at 0x1116f6780>,\n",
       " <tensorflow.python.keras.engine.input_layer.InputLayer at 0x1116f62b0>,\n",
       " <tensorflow.python.keras.layers.core.Reshape at 0x1428a5eb8>,\n",
       " <tensorflow.python.keras.layers.core.Reshape at 0x1116f6a58>,\n",
       " <tensorflow.python.keras.layers.core.Dropout at 0x1116f6a20>,\n",
       " <tensorflow.python.keras.layers.core.Dropout at 0x1116f6278>,\n",
       " <tensorflow.python.keras.layers.core.Dropout at 0x1116f6c88>,\n",
       " <tensorflow.python.keras.layers.core.Dropout at 0x142904198>,\n",
       " <stellargraph.layer.graphsage.MeanAggregator at 0x1428a5f60>,\n",
       " <tensorflow.python.keras.layers.core.Reshape at 0x1225f11d0>,\n",
       " <tensorflow.python.keras.layers.core.Dropout at 0x121a2a6d8>,\n",
       " <tensorflow.python.keras.layers.core.Dropout at 0x1219ab780>,\n",
       " <stellargraph.layer.graphsage.MeanAggregator at 0x1116f60f0>,\n",
       " <tensorflow.python.keras.layers.core.Reshape at 0x121a5a7b8>,\n",
       " <tensorflow.python.keras.layers.core.Lambda at 0x1428a5cf8>,\n",
       " <tensorflow.python.keras.layers.core.Dense at 0x121a5ad68>]"
      ]
     },
     "execution_count": 21,
     "metadata": {},
     "output_type": "execute_result"
    }
   ],
   "source": [
    "model.layers(0)"
   ]
  },
  {
   "cell_type": "markdown",
   "metadata": {},
   "source": [
    "Train the model, keeping track of its loss and accuracy on the training set, and its performance on the validation set during the training (e.g., for early stopping), and generalization performance of the final model on a held-out test set (we need to create another generator over the test data for this)"
   ]
  },
  {
   "cell_type": "code",
   "execution_count": 22,
   "metadata": {
    "collapsed": true
   },
   "outputs": [],
   "source": [
    "val_gen = generator.flow(val_data.index, val_targets)\n",
    "test_gen = generator.flow(test_data.index, test_targets)"
   ]
  },
  {
   "cell_type": "markdown",
   "metadata": {},
   "source": [
    "Note that the amount of time to train the ensemble is linear to `n_estimators`.\n",
    "\n",
    "Also, we are going to use early stopping by monitoring the accuracy on the validation data and stopping if the accuracy does not increase after 10 training epochs (this is the default grace value specified by the `Ensemble` class but we can set it to a different value by using `model.early_stopping_patience=20` for example.)"
   ]
  },
  {
   "cell_type": "code",
   "execution_count": 23,
   "metadata": {},
   "outputs": [
    {
     "name": "stdout",
     "output_type": "stream",
     "text": [
      "WARNING:tensorflow:From /Users/eli024/Projects/stellar-practical-ml-on-graphs/practical-ml/lib/python3.6/site-packages/stellargraph/ensemble.py:678: Model.fit_generator (from tensorflow.python.keras.engine.training) is deprecated and will be removed in a future version.\n",
      "Instructions for updating:\n",
      "Please use Model.fit, which supports generators.\n",
      "WARNING:tensorflow:sample_weight modes were coerced from\n",
      "  ...\n",
      "    to  \n",
      "  ['...']\n",
      "WARNING:tensorflow:sample_weight modes were coerced from\n",
      "  ...\n",
      "    to  \n",
      "  ['...']\n",
      "Train for 11 steps, validate for 9 steps\n",
      "Epoch 1/50\n",
      "11/11 - 2s - loss: 1.7834 - acc: 0.3253 - val_loss: 1.6799 - val_acc: 0.3025\n",
      "Epoch 2/50\n",
      "11/11 - 2s - loss: 1.5466 - acc: 0.4288 - val_loss: 1.5069 - val_acc: 0.3949\n",
      "Epoch 3/50\n",
      "11/11 - 1s - loss: 1.3623 - acc: 0.6876 - val_loss: 1.3514 - val_acc: 0.6605\n",
      "Epoch 4/50\n",
      "11/11 - 1s - loss: 1.1941 - acc: 0.8170 - val_loss: 1.2074 - val_acc: 0.7460\n",
      "Epoch 5/50\n",
      "11/11 - 1s - loss: 1.0178 - acc: 0.8780 - val_loss: 1.1084 - val_acc: 0.7390\n",
      "Epoch 6/50\n",
      "11/11 - 1s - loss: 0.8931 - acc: 0.9020 - val_loss: 1.0048 - val_acc: 0.7621\n",
      "Epoch 7/50\n",
      "11/11 - 1s - loss: 0.7678 - acc: 0.9205 - val_loss: 0.9533 - val_acc: 0.7737\n",
      "Epoch 8/50\n",
      "11/11 - 1s - loss: 0.6860 - acc: 0.9242 - val_loss: 0.9002 - val_acc: 0.7852\n",
      "Epoch 9/50\n",
      "11/11 - 1s - loss: 0.5979 - acc: 0.9519 - val_loss: 0.8530 - val_acc: 0.8014\n",
      "Epoch 10/50\n",
      "11/11 - 1s - loss: 0.5404 - acc: 0.9649 - val_loss: 0.8610 - val_acc: 0.7806\n",
      "Epoch 11/50\n",
      "11/11 - 1s - loss: 0.4931 - acc: 0.9538 - val_loss: 0.7905 - val_acc: 0.7921\n",
      "Epoch 12/50\n",
      "11/11 - 1s - loss: 0.4234 - acc: 0.9778 - val_loss: 0.7808 - val_acc: 0.7945\n",
      "Epoch 13/50\n",
      "11/11 - 1s - loss: 0.3890 - acc: 0.9797 - val_loss: 0.7487 - val_acc: 0.8083\n",
      "Epoch 14/50\n",
      "11/11 - 1s - loss: 0.3535 - acc: 0.9815 - val_loss: 0.7591 - val_acc: 0.7991\n",
      "Epoch 15/50\n",
      "11/11 - 1s - loss: 0.3168 - acc: 0.9871 - val_loss: 0.7676 - val_acc: 0.7875\n",
      "Epoch 16/50\n",
      "11/11 - 1s - loss: 0.2883 - acc: 0.9834 - val_loss: 0.7281 - val_acc: 0.8199\n",
      "Epoch 17/50\n",
      "11/11 - 1s - loss: 0.2703 - acc: 0.9889 - val_loss: 0.7139 - val_acc: 0.8037\n",
      "Epoch 18/50\n",
      "11/11 - 2s - loss: 0.2392 - acc: 0.9945 - val_loss: 0.7263 - val_acc: 0.8083\n",
      "Epoch 19/50\n",
      "11/11 - 2s - loss: 0.2095 - acc: 0.9926 - val_loss: 0.7270 - val_acc: 0.8176\n",
      "Epoch 20/50\n",
      "11/11 - 2s - loss: 0.2012 - acc: 0.9908 - val_loss: 0.7503 - val_acc: 0.7945\n",
      "Epoch 21/50\n",
      "11/11 - 2s - loss: 0.1855 - acc: 0.9945 - val_loss: 0.7281 - val_acc: 0.7991\n",
      "Epoch 22/50\n",
      "11/11 - 1s - loss: 0.1869 - acc: 0.9834 - val_loss: 0.7438 - val_acc: 0.7921\n",
      "Epoch 23/50\n",
      "11/11 - 2s - loss: 0.1677 - acc: 0.9852 - val_loss: 0.7351 - val_acc: 0.8037\n",
      "Epoch 24/50\n",
      "11/11 - 1s - loss: 0.1526 - acc: 0.9926 - val_loss: 0.7156 - val_acc: 0.7921\n",
      "Epoch 25/50\n",
      "11/11 - 2s - loss: 0.1423 - acc: 0.9945 - val_loss: 0.7174 - val_acc: 0.8037\n",
      "Epoch 26/50\n",
      "11/11 - 2s - loss: 0.1399 - acc: 0.9926 - val_loss: 0.7277 - val_acc: 0.8014\n",
      "WARNING:tensorflow:sample_weight modes were coerced from\n",
      "  ...\n",
      "    to  \n",
      "  ['...']\n",
      "WARNING:tensorflow:sample_weight modes were coerced from\n",
      "  ...\n",
      "    to  \n",
      "  ['...']\n",
      "Train for 11 steps, validate for 9 steps\n",
      "Epoch 1/50\n",
      "11/11 - 2s - loss: 1.6659 - acc: 0.4362 - val_loss: 1.3472 - val_acc: 0.6882\n",
      "Epoch 2/50\n",
      "11/11 - 1s - loss: 1.1516 - acc: 0.7893 - val_loss: 1.0497 - val_acc: 0.7275\n",
      "Epoch 3/50\n",
      "11/11 - 1s - loss: 0.8704 - acc: 0.8373 - val_loss: 0.9035 - val_acc: 0.7413\n",
      "Epoch 4/50\n",
      "11/11 - 1s - loss: 0.6595 - acc: 0.8891 - val_loss: 0.8130 - val_acc: 0.7460\n",
      "Epoch 5/50\n",
      "11/11 - 1s - loss: 0.5270 - acc: 0.9002 - val_loss: 0.7525 - val_acc: 0.7898\n",
      "Epoch 6/50\n",
      "11/11 - 1s - loss: 0.4322 - acc: 0.9261 - val_loss: 0.7680 - val_acc: 0.7737\n",
      "Epoch 7/50\n",
      "11/11 - 1s - loss: 0.3776 - acc: 0.9372 - val_loss: 0.7275 - val_acc: 0.7760\n",
      "Epoch 8/50\n",
      "11/11 - 1s - loss: 0.3141 - acc: 0.9593 - val_loss: 0.7480 - val_acc: 0.7644\n",
      "Epoch 9/50\n",
      "11/11 - 1s - loss: 0.2479 - acc: 0.9760 - val_loss: 0.7071 - val_acc: 0.7852\n",
      "Epoch 10/50\n",
      "11/11 - 1s - loss: 0.2274 - acc: 0.9797 - val_loss: 0.6703 - val_acc: 0.8106\n",
      "Epoch 11/50\n",
      "11/11 - 1s - loss: 0.2093 - acc: 0.9741 - val_loss: 0.6961 - val_acc: 0.7991\n",
      "Epoch 12/50\n",
      "11/11 - 1s - loss: 0.1854 - acc: 0.9778 - val_loss: 0.6714 - val_acc: 0.8106\n",
      "Epoch 13/50\n",
      "11/11 - 1s - loss: 0.1767 - acc: 0.9797 - val_loss: 0.7103 - val_acc: 0.7921\n",
      "Epoch 14/50\n",
      "11/11 - 1s - loss: 0.1512 - acc: 0.9908 - val_loss: 0.6741 - val_acc: 0.8037\n",
      "Epoch 15/50\n",
      "11/11 - 1s - loss: 0.1493 - acc: 0.9852 - val_loss: 0.7398 - val_acc: 0.7875\n",
      "Epoch 16/50\n",
      "11/11 - 1s - loss: 0.1402 - acc: 0.9852 - val_loss: 0.7248 - val_acc: 0.7898\n",
      "Epoch 17/50\n",
      "11/11 - 1s - loss: 0.1268 - acc: 0.9815 - val_loss: 0.6691 - val_acc: 0.8037\n",
      "Epoch 18/50\n",
      "11/11 - 1s - loss: 0.1191 - acc: 0.9852 - val_loss: 0.7225 - val_acc: 0.7921\n",
      "Epoch 19/50\n",
      "11/11 - 1s - loss: 0.1099 - acc: 0.9852 - val_loss: 0.7444 - val_acc: 0.7898\n",
      "Epoch 20/50\n",
      "11/11 - 1s - loss: 0.1034 - acc: 0.9889 - val_loss: 0.7315 - val_acc: 0.7898\n",
      "WARNING:tensorflow:sample_weight modes were coerced from\n",
      "  ...\n",
      "    to  \n",
      "  ['...']\n",
      "WARNING:tensorflow:sample_weight modes were coerced from\n",
      "  ...\n",
      "    to  \n",
      "  ['...']\n",
      "Train for 11 steps, validate for 9 steps\n",
      "Epoch 1/50\n",
      "11/11 - 2s - loss: 1.7153 - acc: 0.3586 - val_loss: 1.4214 - val_acc: 0.5751\n",
      "Epoch 2/50\n",
      "11/11 - 1s - loss: 1.2499 - acc: 0.6377 - val_loss: 1.1156 - val_acc: 0.6559\n",
      "Epoch 3/50\n",
      "11/11 - 1s - loss: 0.9153 - acc: 0.7874 - val_loss: 0.8951 - val_acc: 0.7760\n",
      "Epoch 4/50\n",
      "11/11 - 1s - loss: 0.6670 - acc: 0.8891 - val_loss: 0.8002 - val_acc: 0.7829\n",
      "Epoch 5/50\n",
      "11/11 - 1s - loss: 0.5083 - acc: 0.9205 - val_loss: 0.6996 - val_acc: 0.8291\n",
      "Epoch 6/50\n",
      "11/11 - 1s - loss: 0.4246 - acc: 0.9427 - val_loss: 0.6966 - val_acc: 0.8314\n",
      "Epoch 7/50\n",
      "11/11 - 1s - loss: 0.3344 - acc: 0.9667 - val_loss: 0.7144 - val_acc: 0.8106\n",
      "Epoch 8/50\n",
      "11/11 - 1s - loss: 0.2772 - acc: 0.9704 - val_loss: 0.6534 - val_acc: 0.8383\n",
      "Epoch 9/50\n",
      "11/11 - 1s - loss: 0.2424 - acc: 0.9723 - val_loss: 0.6776 - val_acc: 0.8152\n",
      "Epoch 10/50\n",
      "11/11 - 1s - loss: 0.2192 - acc: 0.9741 - val_loss: 0.6930 - val_acc: 0.8083\n",
      "Epoch 11/50\n",
      "11/11 - 1s - loss: 0.1953 - acc: 0.9797 - val_loss: 0.6673 - val_acc: 0.8152\n",
      "Epoch 12/50\n",
      "11/11 - 1s - loss: 0.1713 - acc: 0.9815 - val_loss: 0.6569 - val_acc: 0.8314\n",
      "Epoch 13/50\n",
      "11/11 - 1s - loss: 0.1559 - acc: 0.9852 - val_loss: 0.6481 - val_acc: 0.8176\n",
      "Epoch 14/50\n",
      "11/11 - 1s - loss: 0.1430 - acc: 0.9852 - val_loss: 0.7006 - val_acc: 0.8199\n",
      "Epoch 15/50\n",
      "11/11 - 1s - loss: 0.1273 - acc: 0.9889 - val_loss: 0.6901 - val_acc: 0.8222\n",
      "Epoch 16/50\n",
      "11/11 - 1s - loss: 0.1271 - acc: 0.9815 - val_loss: 0.7405 - val_acc: 0.8152\n",
      "Epoch 17/50\n",
      "11/11 - 1s - loss: 0.1276 - acc: 0.9834 - val_loss: 0.7293 - val_acc: 0.8106\n",
      "Epoch 18/50\n",
      "11/11 - 1s - loss: 0.1120 - acc: 0.9852 - val_loss: 0.7457 - val_acc: 0.7968\n",
      "WARNING:tensorflow:sample_weight modes were coerced from\n",
      "  ...\n",
      "    to  \n",
      "  ['...']\n",
      "WARNING:tensorflow:sample_weight modes were coerced from\n",
      "  ...\n",
      "    to  \n",
      "  ['...']\n",
      "Train for 11 steps, validate for 9 steps\n",
      "Epoch 1/50\n",
      "11/11 - 2s - loss: 1.6767 - acc: 0.4067 - val_loss: 1.3450 - val_acc: 0.6282\n",
      "Epoch 2/50\n",
      "11/11 - 1s - loss: 1.1447 - acc: 0.7320 - val_loss: 0.9912 - val_acc: 0.7321\n",
      "Epoch 3/50\n",
      "11/11 - 1s - loss: 0.7741 - acc: 0.8410 - val_loss: 0.7978 - val_acc: 0.7875\n",
      "Epoch 4/50\n",
      "11/11 - 1s - loss: 0.5483 - acc: 0.9168 - val_loss: 0.7042 - val_acc: 0.8222\n",
      "Epoch 5/50\n",
      "11/11 - 1s - loss: 0.3984 - acc: 0.9538 - val_loss: 0.6815 - val_acc: 0.8106\n",
      "Epoch 6/50\n",
      "11/11 - 1s - loss: 0.3083 - acc: 0.9630 - val_loss: 0.6295 - val_acc: 0.8222\n",
      "Epoch 7/50\n",
      "11/11 - 1s - loss: 0.2662 - acc: 0.9649 - val_loss: 0.6439 - val_acc: 0.8037\n",
      "Epoch 8/50\n",
      "11/11 - 1s - loss: 0.2019 - acc: 0.9760 - val_loss: 0.6286 - val_acc: 0.8199\n",
      "Epoch 9/50\n",
      "11/11 - 1s - loss: 0.1985 - acc: 0.9704 - val_loss: 0.6565 - val_acc: 0.8245\n",
      "Epoch 10/50\n",
      "11/11 - 1s - loss: 0.1777 - acc: 0.9723 - val_loss: 0.6370 - val_acc: 0.8199\n",
      "Epoch 11/50\n",
      "11/11 - 1s - loss: 0.1473 - acc: 0.9797 - val_loss: 0.6940 - val_acc: 0.8037\n",
      "Epoch 12/50\n",
      "11/11 - 1s - loss: 0.1315 - acc: 0.9852 - val_loss: 0.6920 - val_acc: 0.8060\n",
      "Epoch 13/50\n",
      "11/11 - 1s - loss: 0.1319 - acc: 0.9797 - val_loss: 0.6626 - val_acc: 0.8199\n",
      "Epoch 14/50\n",
      "11/11 - 1s - loss: 0.1109 - acc: 0.9889 - val_loss: 0.6937 - val_acc: 0.8176\n",
      "Epoch 15/50\n",
      "11/11 - 1s - loss: 0.0981 - acc: 0.9926 - val_loss: 0.7211 - val_acc: 0.8245\n",
      "Epoch 16/50\n",
      "11/11 - 1s - loss: 0.0903 - acc: 0.9908 - val_loss: 0.7677 - val_acc: 0.8083\n"
     ]
    },
    {
     "name": "stdout",
     "output_type": "stream",
     "text": [
      "Epoch 17/50\n",
      "11/11 - 1s - loss: 0.0970 - acc: 0.9815 - val_loss: 0.6664 - val_acc: 0.8337\n",
      "Epoch 18/50\n",
      "11/11 - 1s - loss: 0.0934 - acc: 0.9852 - val_loss: 0.7176 - val_acc: 0.8245\n",
      "Epoch 19/50\n",
      "11/11 - 1s - loss: 0.0857 - acc: 0.9871 - val_loss: 0.7471 - val_acc: 0.8152\n",
      "Epoch 20/50\n",
      "11/11 - 1s - loss: 0.0757 - acc: 0.9889 - val_loss: 0.7544 - val_acc: 0.8060\n",
      "Epoch 21/50\n",
      "11/11 - 1s - loss: 0.0893 - acc: 0.9852 - val_loss: 0.7826 - val_acc: 0.8176\n",
      "Epoch 22/50\n",
      "11/11 - 1s - loss: 0.0677 - acc: 0.9889 - val_loss: 0.7741 - val_acc: 0.8037\n",
      "Epoch 23/50\n",
      "11/11 - 1s - loss: 0.0656 - acc: 0.9871 - val_loss: 0.7918 - val_acc: 0.8152\n",
      "Epoch 24/50\n",
      "11/11 - 1s - loss: 0.0597 - acc: 0.9926 - val_loss: 0.7883 - val_acc: 0.8083\n",
      "Epoch 25/50\n",
      "11/11 - 1s - loss: 0.0579 - acc: 0.9889 - val_loss: 0.8064 - val_acc: 0.8176\n",
      "Epoch 26/50\n",
      "11/11 - 1s - loss: 0.0529 - acc: 0.9926 - val_loss: 0.8152 - val_acc: 0.8129\n",
      "Epoch 27/50\n",
      "11/11 - 1s - loss: 0.0681 - acc: 0.9871 - val_loss: 0.7626 - val_acc: 0.8083\n",
      "WARNING:tensorflow:sample_weight modes were coerced from\n",
      "  ...\n",
      "    to  \n",
      "  ['...']\n",
      "WARNING:tensorflow:sample_weight modes were coerced from\n",
      "  ...\n",
      "    to  \n",
      "  ['...']\n",
      "Train for 11 steps, validate for 9 steps\n",
      "Epoch 1/50\n",
      "11/11 - 2s - loss: 1.6699 - acc: 0.4325 - val_loss: 1.3221 - val_acc: 0.6143\n",
      "Epoch 2/50\n",
      "11/11 - 1s - loss: 1.1072 - acc: 0.7542 - val_loss: 0.9733 - val_acc: 0.7506\n",
      "Epoch 3/50\n",
      "11/11 - 1s - loss: 0.7278 - acc: 0.8872 - val_loss: 0.7747 - val_acc: 0.8083\n",
      "Epoch 4/50\n",
      "11/11 - 1s - loss: 0.5143 - acc: 0.9335 - val_loss: 0.6878 - val_acc: 0.8268\n",
      "Epoch 5/50\n",
      "11/11 - 1s - loss: 0.3888 - acc: 0.9501 - val_loss: 0.6662 - val_acc: 0.8037\n",
      "Epoch 6/50\n",
      "11/11 - 1s - loss: 0.2893 - acc: 0.9649 - val_loss: 0.6329 - val_acc: 0.8314\n",
      "Epoch 7/50\n",
      "11/11 - 1s - loss: 0.2381 - acc: 0.9778 - val_loss: 0.6472 - val_acc: 0.8083\n",
      "Epoch 8/50\n",
      "11/11 - 1s - loss: 0.2017 - acc: 0.9778 - val_loss: 0.6728 - val_acc: 0.8176\n",
      "Epoch 9/50\n",
      "11/11 - 1s - loss: 0.1721 - acc: 0.9852 - val_loss: 0.7053 - val_acc: 0.7945\n",
      "Epoch 10/50\n",
      "11/11 - 1s - loss: 0.1552 - acc: 0.9797 - val_loss: 0.6840 - val_acc: 0.8060\n",
      "Epoch 11/50\n",
      "11/11 - 1s - loss: 0.1412 - acc: 0.9852 - val_loss: 0.6755 - val_acc: 0.8060\n",
      "Epoch 12/50\n",
      "11/11 - 1s - loss: 0.1152 - acc: 0.9889 - val_loss: 0.6749 - val_acc: 0.8176\n",
      "Epoch 13/50\n",
      "11/11 - 1s - loss: 0.1158 - acc: 0.9778 - val_loss: 0.7271 - val_acc: 0.7991\n",
      "Epoch 14/50\n",
      "11/11 - 1s - loss: 0.1197 - acc: 0.9778 - val_loss: 0.7293 - val_acc: 0.7829\n",
      "Epoch 15/50\n",
      "11/11 - 1s - loss: 0.1049 - acc: 0.9815 - val_loss: 0.7148 - val_acc: 0.8106\n",
      "Epoch 16/50\n",
      "11/11 - 1s - loss: 0.0895 - acc: 0.9889 - val_loss: 0.7032 - val_acc: 0.7968\n"
     ]
    }
   ],
   "source": [
    "if use_bagging:\n",
    "    # When using bootstrap samples to train each model in the ensemble, we must specify\n",
    "    # the IDs of the training nodes (train_data) and their corresponding target values\n",
    "    # (train_targets)\n",
    "    history = model.fit_generator(\n",
    "        generator,\n",
    "        train_data = train_data.index,\n",
    "        train_targets = train_targets,\n",
    "        epochs=epochs,\n",
    "        validation_data=val_gen,\n",
    "        verbose=2,\n",
    "        shuffle=False,\n",
    "        bag_size=None,\n",
    "        use_early_stopping=True,  # Enable early stopping\n",
    "        early_stopping_monitor=\"val_acc\",\n",
    "    )\n",
    "else:\n",
    "    history = model.fit_generator(\n",
    "        train_gen,\n",
    "        epochs=epochs,\n",
    "        validation_data=val_gen,\n",
    "        verbose=2,\n",
    "        shuffle=False,\n",
    "        use_early_stopping=True, # Enable early stopping\n",
    "        early_stopping_monitor=\"val_acc\",\n",
    "    )"
   ]
  },
  {
   "cell_type": "code",
   "execution_count": 25,
   "metadata": {},
   "outputs": [
    {
     "data": {
      "image/png": "[encoded data removed]",
      "text/plain": [
       "<Figure size 504x576 with 2 Axes>"
      ]
     },
     "metadata": {
      "needs_background": "light"
     },
     "output_type": "display_data"
    }
   ],
   "source": [
    "sg.utils.plot_history(history)"
   ]
  },
  {
   "cell_type": "markdown",
   "metadata": {},
   "source": [
    "Now we have trained the model, let's evaluate it on the test set. Note that the `.evaluate_generator()` method of the `Ensemble` class returns mean and standard deviation of each evaluation metric."
   ]
  },
  {
   "cell_type": "code",
   "execution_count": 26,
   "metadata": {},
   "outputs": [
    {
     "name": "stdout",
     "output_type": "stream",
     "text": [
      "WARNING:tensorflow:From /Users/eli024/Projects/stellar-practical-ml-on-graphs/practical-ml/lib/python3.6/site-packages/stellargraph/ensemble.py:384: Model.evaluate_generator (from tensorflow.python.keras.engine.training) is deprecated and will be removed in a future version.\n",
      "Instructions for updating:\n",
      "Please use Model.evaluate, which supports generators.\n",
      "WARNING:tensorflow:sample_weight modes were coerced from\n",
      "  ...\n",
      "    to  \n",
      "  ['...']\n",
      "WARNING:tensorflow:sample_weight modes were coerced from\n",
      "  ...\n",
      "    to  \n",
      "  ['...']\n",
      "WARNING:tensorflow:sample_weight modes were coerced from\n",
      "  ...\n",
      "    to  \n",
      "  ['...']\n",
      "WARNING:tensorflow:sample_weight modes were coerced from\n",
      "  ...\n",
      "    to  \n",
      "  ['...']\n",
      "WARNING:tensorflow:sample_weight modes were coerced from\n",
      "  ...\n",
      "    to  \n",
      "  ['...']\n",
      "WARNING:tensorflow:sample_weight modes were coerced from\n",
      "  ...\n",
      "    to  \n",
      "  ['...']\n",
      "WARNING:tensorflow:sample_weight modes were coerced from\n",
      "  ...\n",
      "    to  \n",
      "  ['...']\n",
      "WARNING:tensorflow:sample_weight modes were coerced from\n",
      "  ...\n",
      "    to  \n",
      "  ['...']\n",
      "WARNING:tensorflow:sample_weight modes were coerced from\n",
      "  ...\n",
      "    to  \n",
      "  ['...']\n",
      "WARNING:tensorflow:sample_weight modes were coerced from\n",
      "  ...\n",
      "    to  \n",
      "  ['...']\n",
      "WARNING:tensorflow:sample_weight modes were coerced from\n",
      "  ...\n",
      "    to  \n",
      "  ['...']\n",
      "WARNING:tensorflow:sample_weight modes were coerced from\n",
      "  ...\n",
      "    to  \n",
      "  ['...']\n",
      "WARNING:tensorflow:sample_weight modes were coerced from\n",
      "  ...\n",
      "    to  \n",
      "  ['...']\n",
      "WARNING:tensorflow:sample_weight modes were coerced from\n",
      "  ...\n",
      "    to  \n",
      "  ['...']\n",
      "WARNING:tensorflow:sample_weight modes were coerced from\n",
      "  ...\n",
      "    to  \n",
      "  ['...']\n",
      "WARNING:tensorflow:sample_weight modes were coerced from\n",
      "  ...\n",
      "    to  \n",
      "  ['...']\n",
      "WARNING:tensorflow:sample_weight modes were coerced from\n",
      "  ...\n",
      "    to  \n",
      "  ['...']\n",
      "WARNING:tensorflow:sample_weight modes were coerced from\n",
      "  ...\n",
      "    to  \n",
      "  ['...']\n",
      "WARNING:tensorflow:sample_weight modes were coerced from\n",
      "  ...\n",
      "    to  \n",
      "  ['...']\n",
      "WARNING:tensorflow:sample_weight modes were coerced from\n",
      "  ...\n",
      "    to  \n",
      "  ['...']\n",
      "WARNING:tensorflow:sample_weight modes were coerced from\n",
      "  ...\n",
      "    to  \n",
      "  ['...']\n",
      "WARNING:tensorflow:sample_weight modes were coerced from\n",
      "  ...\n",
      "    to  \n",
      "  ['...']\n",
      "WARNING:tensorflow:sample_weight modes were coerced from\n",
      "  ...\n",
      "    to  \n",
      "  ['...']\n",
      "WARNING:tensorflow:sample_weight modes were coerced from\n",
      "  ...\n",
      "    to  \n",
      "  ['...']\n",
      "WARNING:tensorflow:sample_weight modes were coerced from\n",
      "  ...\n",
      "    to  \n",
      "  ['...']\n",
      "WARNING:tensorflow:sample_weight modes were coerced from\n",
      "  ...\n",
      "    to  \n",
      "  ['...']\n",
      "WARNING:tensorflow:sample_weight modes were coerced from\n",
      "  ...\n",
      "    to  \n",
      "  ['...']\n",
      "WARNING:tensorflow:sample_weight modes were coerced from\n",
      "  ...\n",
      "    to  \n",
      "  ['...']\n",
      "WARNING:tensorflow:sample_weight modes were coerced from\n",
      "  ...\n",
      "    to  \n",
      "  ['...']\n",
      "WARNING:tensorflow:sample_weight modes were coerced from\n",
      "  ...\n",
      "    to  \n",
      "  ['...']\n",
      "WARNING:tensorflow:sample_weight modes were coerced from\n",
      "  ...\n",
      "    to  \n",
      "  ['...']\n",
      "WARNING:tensorflow:sample_weight modes were coerced from\n",
      "  ...\n",
      "    to  \n",
      "  ['...']\n",
      "WARNING:tensorflow:sample_weight modes were coerced from\n",
      "  ...\n",
      "    to  \n",
      "  ['...']\n",
      "WARNING:tensorflow:sample_weight modes were coerced from\n",
      "  ...\n",
      "    to  \n",
      "  ['...']\n",
      "WARNING:tensorflow:sample_weight modes were coerced from\n",
      "  ...\n",
      "    to  \n",
      "  ['...']\n",
      "WARNING:tensorflow:sample_weight modes were coerced from\n",
      "  ...\n",
      "    to  \n",
      "  ['...']\n",
      "WARNING:tensorflow:sample_weight modes were coerced from\n",
      "  ...\n",
      "    to  \n",
      "  ['...']\n",
      "WARNING:tensorflow:sample_weight modes were coerced from\n",
      "  ...\n",
      "    to  \n",
      "  ['...']\n",
      "WARNING:tensorflow:sample_weight modes were coerced from\n",
      "  ...\n",
      "    to  \n",
      "  ['...']\n",
      "WARNING:tensorflow:sample_weight modes were coerced from\n",
      "  ...\n",
      "    to  \n",
      "  ['...']\n",
      "WARNING:tensorflow:sample_weight modes were coerced from\n",
      "  ...\n",
      "    to  \n",
      "  ['...']\n",
      "WARNING:tensorflow:sample_weight modes were coerced from\n",
      "  ...\n",
      "    to  \n",
      "  ['...']\n",
      "WARNING:tensorflow:sample_weight modes were coerced from\n",
      "  ...\n",
      "    to  \n",
      "  ['...']\n",
      "WARNING:tensorflow:sample_weight modes were coerced from\n",
      "  ...\n",
      "    to  \n",
      "  ['...']\n",
      "WARNING:tensorflow:sample_weight modes were coerced from\n",
      "  ...\n",
      "    to  \n",
      "  ['...']\n",
      "WARNING:tensorflow:sample_weight modes were coerced from\n",
      "  ...\n",
      "    to  \n",
      "  ['...']\n",
      "WARNING:tensorflow:sample_weight modes were coerced from\n",
      "  ...\n",
      "    to  \n",
      "  ['...']\n",
      "WARNING:tensorflow:sample_weight modes were coerced from\n",
      "  ...\n",
      "    to  \n",
      "  ['...']\n",
      "WARNING:tensorflow:sample_weight modes were coerced from\n",
      "  ...\n",
      "    to  \n",
      "  ['...']\n",
      "WARNING:tensorflow:sample_weight modes were coerced from\n",
      "  ...\n",
      "    to  \n",
      "  ['...']\n",
      "\n",
      "Test Set Metrics of the trained models:\n",
      "\tloss: 0.6966±0.0469\n",
      "\tacc: 0.8037±0.0109\n"
     ]
    }
   ],
   "source": [
    "test_metrics_mean, test_metrics_std = model.evaluate_generator(test_gen)\n",
    "\n",
    "print(\"\\nTest Set Metrics of the trained models:\")\n",
    "for name, m, s in zip(model.metrics_names, test_metrics_mean, test_metrics_std):\n",
    "    print(\"\\t{}: {:0.4f}±{:0.4f}\".format(name, m, s))"
   ]
  },
  {
   "cell_type": "markdown",
   "metadata": {},
   "source": [
    "### Making predictions with the model"
   ]
  },
  {
   "cell_type": "markdown",
   "metadata": {},
   "source": [
    "Now let's get the predictions for all nodes, using a new generator for all nodes:"
   ]
  },
  {
   "cell_type": "code",
   "execution_count": 27,
   "metadata": {},
   "outputs": [
    {
     "name": "stdout",
     "output_type": "stream",
     "text": [
      "WARNING:tensorflow:From /Users/eli024/Projects/stellar-practical-ml-on-graphs/practical-ml/lib/python3.6/site-packages/stellargraph/ensemble.py:488: Model.predict_generator (from tensorflow.python.keras.engine.training) is deprecated and will be removed in a future version.\n",
      "Instructions for updating:\n",
      "Please use Model.predict, which supports generators.\n"
     ]
    }
   ],
   "source": [
    "all_nodes = node_data.index\n",
    "all_gen = generator.flow(all_nodes)\n",
    "all_predictions = model.predict_generator(generator=all_gen)"
   ]
  },
  {
   "cell_type": "code",
   "execution_count": 28,
   "metadata": {},
   "outputs": [
    {
     "data": {
      "text/plain": [
       "(5, 10, 2708, 7)"
      ]
     },
     "execution_count": 28,
     "metadata": {},
     "output_type": "execute_result"
    }
   ],
   "source": [
    "all_predictions.shape"
   ]
  },
  {
   "cell_type": "markdown",
   "metadata": {},
   "source": [
    "For full-batch methods, the batch dimension is 1 so we will remove any singleton dimensions"
   ]
  },
  {
   "cell_type": "code",
   "execution_count": 29,
   "metadata": {
    "collapsed": true
   },
   "outputs": [],
   "source": [
    "all_predictions = np.squeeze(all_predictions)"
   ]
  },
  {
   "cell_type": "code",
   "execution_count": 30,
   "metadata": {},
   "outputs": [
    {
     "data": {
      "text/plain": [
       "(5, 10, 2708, 7)"
      ]
     },
     "execution_count": 30,
     "metadata": {},
     "output_type": "execute_result"
    }
   ],
   "source": [
    "all_predictions.shape"
   ]
  },
  {
   "cell_type": "markdown",
   "metadata": {},
   "source": [
    "These predictions will be the output of the softmax layer, so to get final categories we'll use the `inverse_transform` method of our target attribute specifcation to turn these values back to the original categories"
   ]
  },
  {
   "cell_type": "markdown",
   "metadata": {},
   "source": [
    "For demonstration, we are going to select one of the nodes in the graph, and plot the ensemble's predictions for that node."
   ]
  },
  {
   "cell_type": "code",
   "execution_count": 31,
   "metadata": {
    "collapsed": true
   },
   "outputs": [],
   "source": [
    "selected_query_point = -1"
   ]
  },
  {
   "cell_type": "markdown",
   "metadata": {},
   "source": [
    "The array `all_predictions` has dimensionality $MxKxNxF$ where $M$ is the number of estimators in the ensemble (`n_estimators`); $K$ is the number of predictions per query point per estimator (`n_predictions`); $N$ is the number of query points (`len(all_predictions)`); and $F$ is the output dimensionality of the specified layer determined by the shape of the output layer.\n",
    "\n",
    "Since we are only interested in the predictions for a single query node, e.g., `selected_query_point`, we are going to slice the array to extract them."
   ]
  },
  {
   "cell_type": "code",
   "execution_count": 32,
   "metadata": {},
   "outputs": [
    {
     "data": {
      "text/plain": [
       "(5, 10, 7)"
      ]
     },
     "execution_count": 32,
     "metadata": {},
     "output_type": "execute_result"
    }
   ],
   "source": [
    "# Select the predictions for the point specified by selected_query_point\n",
    "qp_predictions = all_predictions[:, :, selected_query_point, :]\n",
    "# The shape should be n_estimators x n_predictions x size_output_layer\n",
    "qp_predictions.shape"
   ]
  },
  {
   "cell_type": "markdown",
   "metadata": {},
   "source": [
    "Next, to facilitate plotting the predictions using either a density plot or a box plot, we are going to reshape `qp_predictions` to $R\\times F$ where $R$ is equal to $M\\times K$ as above and $F$ is the output dimensionality of the output layer."
   ]
  },
  {
   "cell_type": "code",
   "execution_count": 33,
   "metadata": {},
   "outputs": [
    {
     "data": {
      "text/plain": [
       "(50, 7)"
      ]
     },
     "execution_count": 33,
     "metadata": {},
     "output_type": "execute_result"
    }
   ],
   "source": [
    "qp_predictions = qp_predictions.reshape(np.product(qp_predictions.shape[0:-1]), qp_predictions.shape[-1])\n",
    "qp_predictions.shape"
   ]
  },
  {
   "cell_type": "code",
   "execution_count": 34,
   "metadata": {},
   "outputs": [
    {
     "data": {
      "text/plain": [
       "{0: 'subject=Case_Based',\n",
       " 1: 'subject=Genetic_Algorithms',\n",
       " 2: 'subject=Neural_Networks',\n",
       " 3: 'subject=Probabilistic_Methods',\n",
       " 4: 'subject=Reinforcement_Learning',\n",
       " 5: 'subject=Rule_Learning',\n",
       " 6: 'subject=Theory'}"
      ]
     },
     "execution_count": 34,
     "metadata": {},
     "output_type": "execute_result"
    }
   ],
   "source": [
    "inv_subject_mapper = {k: v for k, v in enumerate(target_encoding.feature_names_)}\n",
    "inv_subject_mapper"
   ]
  },
  {
   "cell_type": "markdown",
   "metadata": {},
   "source": [
    "We'd like to assess the ensemble's confidence in its predictions in order to decide if we can trust them or not. Utilising density plots, we can visually inspect the ensemble's distribution of prediction probabilities for a node's label.\n",
    "\n",
    "This is better demonstrated if the ensemble's base mode is `GraphSAGE` because the predictions of the base model vary most (when compared to GCN and GAT) due to the random sampling of node neighbours during prediction in addition to the inherent stocasticity of the ensemble itself.\n",
    "\n",
    "If the density plot for the predicted node label is well separated from those of the other labels with little overlap then we can be confident trusting the model's prediction."
   ]
  },
  {
   "cell_type": "code",
   "execution_count": 35,
   "metadata": {},
   "outputs": [
    {
     "data": {
      "image/png": "[encoded data removed]",
      "text/plain": [
       "<Figure size 864x432 with 1 Axes>"
      ]
     },
     "metadata": {
      "needs_background": "light"
     },
     "output_type": "display_data"
    }
   ],
   "source": [
    "if model_type not in ['gcn', 'gat']:\n",
    "    fig, ax = plt.subplots(figsize=(12,6))\n",
    "    for i in range(qp_predictions.shape[1]):\n",
    "        sns.kdeplot(data=qp_predictions[:, i].reshape((-1,)), label=inv_subject_mapper[i])\n",
    "    plt.xlabel(\"Predicted Probability\")\n",
    "    plt.title(\"Density plots of predicted probabilities for each subject\")"
   ]
  },
  {
   "cell_type": "markdown",
   "metadata": {},
   "source": [
    "An alternative and possibly more informative view of the distribution of node predictions is a box plot."
   ]
  },
  {
   "cell_type": "code",
   "execution_count": 36,
   "metadata": {},
   "outputs": [
    {
     "data": {
      "text/plain": [
       "Text(0.5, 0, 'Subject')"
      ]
     },
     "execution_count": 36,
     "metadata": {},
     "output_type": "execute_result"
    },
    {
     "data": {
      "image/png": "[encoded data removed]",
      "text/plain": [
       "<Figure size 864x432 with 1 Axes>"
      ]
     },
     "metadata": {
      "needs_background": "light"
     },
     "output_type": "display_data"
    }
   ],
   "source": [
    "fig, ax = plt.subplots(figsize=(12,6))\n",
    "ax.boxplot(x=qp_predictions)\n",
    "ax.set_xticklabels(target_encoding.feature_names_)\n",
    "ax.tick_params(axis='x', rotation=45)\n",
    "if model_type == \"graphsage\":\n",
    "    y = np.argmax(target_encoding.transform(node_data[[node_label]].to_dict('records')), axis=1)\n",
    "elif model_type == \"gcn\" or model_type == \"gat\":\n",
    "    y = np.argmax(target_encoding.transform(node_data.reindex(G.nodes())[[node_label]].to_dict('records')), axis=1)\n",
    "plt.title(\"Correct \"+target_encoding.feature_names_[y[selected_query_point]])\n",
    "plt.ylabel(\"Predicted Probability\")\n",
    "plt.xlabel(\"Subject\")"
   ]
  },
  {
   "cell_type": "markdown",
   "metadata": {},
   "source": [
    "The above example shows that the ensemble predicts the correct node label with high confidence so we can trust its prediction.\n",
    "\n",
    "(Note that due to the stochastic nature of training neural network algorithms, the above conclusion may not be valid if you re-run the notebook; however, the general conclusion that the use of ensemble learning can be used to quantify the model's uncertainty about its predictions still holds.)"
   ]
  },
  {
   "cell_type": "markdown",
   "metadata": {},
   "source": [
    "## Node embeddings\n",
    "\n",
    "Evaluate node embeddings as activations of the output of one of the graph convolutional or aggregation layers in the ensemble model, and visualise them, coloring nodes by their subject label.\n",
    "\n",
    "You can find the index of the layer of interest by calling the `Ensemble` class's method `layers`, e.g., `model.layers()`."
   ]
  },
  {
   "cell_type": "code",
   "execution_count": 37,
   "metadata": {
    "collapsed": true
   },
   "outputs": [],
   "source": [
    "if model_type == 'graphsage':\n",
    "    # For GraphSAGE, we are going to use the output activations of the second GraphSAGE layer\n",
    "    # as the node embeddings\n",
    "    emb = model.predict_generator(generator=generator, \n",
    "                                  predict_data=node_data.index, \n",
    "                                  output_layer=-4)  # this selects the output layer\n",
    "elif model_type == 'gcn' or model_type == 'gat':\n",
    "    # For GCN and GAT, we are going to use the output activations of the first GCN or Graph\n",
    "    # Attention layer as the node embeddings\n",
    "    emb = model.predict_generator(generator=generator, \n",
    "                                  predict_data=node_data.index, \n",
    "                                  output_layer=6)  # this selects the output layer"
   ]
  },
  {
   "cell_type": "markdown",
   "metadata": {},
   "source": [
    "The array `emb` has dimensionality $MxKxNxF$ (or $MxKx1xNxF$for full batch methods) where $M$ is the number of estimators in the ensemble (`n_estimators`); $K$ is the number of predictions per query point per estimator (`n_predictions`); $N$ is the number of query points (`len(node_data.index)`); and $F$ is the output dimensionality of the specified layer determined by the shape of the readout layer as specified above."
   ]
  },
  {
   "cell_type": "code",
   "execution_count": 38,
   "metadata": {},
   "outputs": [
    {
     "data": {
      "text/plain": [
       "(5, 10, 2708, 1, 16)"
      ]
     },
     "execution_count": 38,
     "metadata": {},
     "output_type": "execute_result"
    }
   ],
   "source": [
    "emb.shape"
   ]
  },
  {
   "cell_type": "code",
   "execution_count": 39,
   "metadata": {},
   "outputs": [
    {
     "data": {
      "text/plain": [
       "(5, 10, 2708, 16)"
      ]
     },
     "execution_count": 39,
     "metadata": {},
     "output_type": "execute_result"
    }
   ],
   "source": [
    "emb = np.squeeze(emb)\n",
    "emb.shape"
   ]
  },
  {
   "cell_type": "markdown",
   "metadata": {},
   "source": [
    "Next we are going to average the predictions over the number of models and the number of predictions per query point. \n",
    "\n",
    "The dimensionality of the array will then be **NxF** where N is the number of points to predict (equal to the number of nodes in the graph for this example) and F is the dimensionality of the embeddings that depends on the output shape of the readout layer as specified above.\n",
    "\n",
    "Note that we could have achieved the same by specifying `summarise=True` in the call to the method `predict_generator` above."
   ]
  },
  {
   "cell_type": "code",
   "execution_count": 40,
   "metadata": {
    "collapsed": true
   },
   "outputs": [],
   "source": [
    "emb = np.mean(emb, axis=(0,1))"
   ]
  },
  {
   "cell_type": "code",
   "execution_count": 41,
   "metadata": {},
   "outputs": [
    {
     "data": {
      "text/plain": [
       "(2708, 16)"
      ]
     },
     "execution_count": 41,
     "metadata": {},
     "output_type": "execute_result"
    }
   ],
   "source": [
    "emb.shape"
   ]
  },
  {
   "cell_type": "markdown",
   "metadata": {},
   "source": [
    "Project the embeddings to 2d using either TSNE or PCA transform, and visualise, coloring nodes by their subject label"
   ]
  },
  {
   "cell_type": "code",
   "execution_count": 42,
   "metadata": {
    "collapsed": true
   },
   "outputs": [],
   "source": [
    "X = emb\n",
    "if model_type == 'graphsage':\n",
    "    y = np.argmax(target_encoding.transform(node_data[[node_label]].to_dict('records')), \n",
    "                  axis=1)\n",
    "elif model_type == 'gcn' or model_type =='gat':\n",
    "    y = np.argmax(target_encoding.transform(node_data.reindex(G.nodes())[[node_label]].to_dict('records')), \n",
    "                  axis=1)"
   ]
  },
  {
   "cell_type": "code",
   "execution_count": 43,
   "metadata": {
    "collapsed": true
   },
   "outputs": [],
   "source": [
    "if X.shape[1] > 2:\n",
    "    transform = TSNE # PCA \n",
    "\n",
    "    trans = transform(n_components=2)\n",
    "    emb_transformed = pd.DataFrame(trans.fit_transform(X), index=node_data.index)\n",
    "    emb_transformed['label'] = y\n",
    "else:\n",
    "    emb_transformed = pd.DataFrame(X, index=node_data.index)\n",
    "    emb_transformed = emb_transformed.rename(columns = {'0':0, '1':1})\n",
    "    emb_transformed['label'] = y"
   ]
  },
  {
   "cell_type": "code",
   "execution_count": 44,
   "metadata": {},
   "outputs": [
    {
     "data": {
      "image/png": "[encoded data removed]",
      "text/plain": [
       "<Figure size 504x504 with 1 Axes>"
      ]
     },
     "metadata": {
      "needs_background": "light"
     },
     "output_type": "display_data"
    }
   ],
   "source": [
    "alpha = 0.7\n",
    "\n",
    "fig, ax = plt.subplots(figsize=(7,7))\n",
    "ax.scatter(emb_transformed[0], emb_transformed[1], c=emb_transformed['label'].astype(\"category\"), \n",
    "            cmap=\"jet\", alpha=alpha)\n",
    "ax.set(aspect=\"equal\", xlabel=\"$X_1$\", ylabel=\"$X_2$\")\n",
    "plt.title('{} visualization of {} embeddings for cora dataset'.format(model_type, transform.__name__))\n",
    "plt.show()"
   ]
  }
 ],
 "metadata": {
  "file_extension": ".py",
  "kernelspec": {
   "display_name": "practical-ml",
   "language": "python",
   "name": "practical-ml"
  },
  "language_info": {
   "codemirror_mode": {
    "name": "ipython",
    "version": 3
   },
   "file_extension": ".py",
   "mimetype": "text/x-python",
   "name": "python",
   "nbconvert_exporter": "python",
   "pygments_lexer": "ipython3",
   "version": "3.6.8"
  },
  "mimetype": "text/x-python",
  "name": "python",
  "npconvert_exporter": "python",
  "pygments_lexer": "ipython3",
  "version": 3
 },
 "nbformat": 4,
 "nbformat_minor": 2
}
